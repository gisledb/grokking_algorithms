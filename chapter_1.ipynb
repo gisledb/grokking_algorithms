{
 "cells": [
  {
   "cell_type": "markdown",
   "metadata": {},
   "source": [
    "### Binary search"
   ]
  },
  {
   "cell_type": "code",
   "execution_count": 3,
   "metadata": {
    "collapsed": true
   },
   "outputs": [],
   "source": [
    "# Function from book, with my adjustmest\n",
    "\n",
    "def binary_search(list, item):\n",
    "    low = 0\n",
    "    high = len(list) - 1\n",
    "    \n",
    "    while low <= high:\n",
    "        # line below changed from the book: mid = (low + high)\n",
    "        mid = (low + high) // 2\n",
    "        guess = list[mid]\n",
    "        \n",
    "        if guess == item:\n",
    "            return mid\n",
    "        \n",
    "        if guess > item:\n",
    "            high = mid - 1\n",
    "        else:\n",
    "            low = mid + 1\n",
    "    \n",
    "    return None"
   ]
  },
  {
   "cell_type": "code",
   "execution_count": 4,
   "metadata": {
    "collapsed": false
   },
   "outputs": [
    {
     "data": {
      "text/plain": [
       "1"
      ]
     },
     "execution_count": 4,
     "metadata": {},
     "output_type": "execute_result"
    }
   ],
   "source": [
    "my_list = (1,3,5,7,9)\n",
    "\n",
    "binary_search(my_list,3)"
   ]
  },
  {
   "cell_type": "code",
   "execution_count": 5,
   "metadata": {
    "collapsed": false
   },
   "outputs": [],
   "source": [
    "#Excercise 1.1, function for log2\n",
    "from math import sqrt\n",
    "\n",
    "def log2(length):\n",
    "    count = 1\n",
    "    result = length\n",
    "    \n",
    "    while result > 2:\n",
    "        count += 1\n",
    "        result = result / 2\n",
    "            \n",
    "    return count"
   ]
  },
  {
   "cell_type": "code",
   "execution_count": 6,
   "metadata": {
    "collapsed": false
   },
   "outputs": [
    {
     "data": {
      "text/plain": [
       "7"
      ]
     },
     "execution_count": 6,
     "metadata": {},
     "output_type": "execute_result"
    }
   ],
   "source": [
    "#Excercise 1.1, answer\n",
    "log2(128)"
   ]
  },
  {
   "cell_type": "markdown",
   "metadata": {},
   "source": [
    "<em>Excercise 1.2</em>: answer based on reasoning\n",
    "\n",
    "The answer will be 8, as when we divide 256 with 2 we are at 128."
   ]
  },
  {
   "cell_type": "code",
   "execution_count": 7,
   "metadata": {
    "collapsed": false
   },
   "outputs": [
    {
     "data": {
      "text/plain": [
       "8"
      ]
     },
     "execution_count": 7,
     "metadata": {},
     "output_type": "execute_result"
    }
   ],
   "source": [
    "#Excercise 1.2, calculated answer\n",
    "log2(256)"
   ]
  },
  {
   "cell_type": "markdown",
   "metadata": {},
   "source": [
    "### Big O notation"
   ]
  },
  {
   "cell_type": "code",
   "execution_count": 10,
   "metadata": {
    "collapsed": false
   },
   "outputs": [
    {
     "name": "stdout",
     "output_type": "stream",
     "text": [
      "30\n",
      "1000000.0\n"
     ]
    }
   ],
   "source": [
    "#Moon landing comparison\n",
    "\n",
    "simple_search_1b = 1000000000\n",
    "binary_search_1b = log2(1000000000)\n",
    "\n",
    "print(binary_search_1b)\n",
    "\n",
    "print(simple_search_1b / 1000)"
   ]
  },
  {
   "cell_type": "code",
   "execution_count": 14,
   "metadata": {
    "collapsed": false
   },
   "outputs": [
    {
     "data": {
      "text/plain": [
       "4"
      ]
     },
     "execution_count": 14,
     "metadata": {},
     "output_type": "execute_result"
    }
   ],
   "source": [
    "#Visualizing different Big O  run times\n",
    "\n",
    "algorithm_1 = 16\n",
    "algorithm_2 = 4\n",
    "\n",
    "log2(algorithm_1)"
   ]
  },
  {
   "cell_type": "code",
   "execution_count": null,
   "metadata": {
    "collapsed": true
   },
   "outputs": [],
   "source": []
  },
  {
   "cell_type": "markdown",
   "metadata": {},
   "source": [
    "**Running times for Big O**\n",
    "\n",
    "Algorithm_1: O(n)  \n",
    "Algoirthm_2: O(log n)  \n",
    "\n",
    "Big O notation tells you the worst-case scenario."
   ]
  },
  {
   "cell_type": "code",
   "execution_count": 82,
   "metadata": {
    "collapsed": false
   },
   "outputs": [
    {
     "name": "stdout",
     "output_type": "stream",
     "text": [
      "binary search: O(log n)\n",
      "simple search: O(n)\n",
      "O(n^2)\n",
      "O((n^2) / 29)\n"
     ]
    }
   ],
   "source": [
    "#Excercise 1.3,1.4,1.5,1.6 Big O notations\n",
    "\n",
    "#1.3\n",
    "#You have a name and you look the person's phone number up in the phone book\n",
    "print(\"binary search: O(log n)\")\n",
    "\n",
    "#1.4\n",
    "#You have a phone number and you look up the owner in the phone book\n",
    "print(\"simple search: O(n)\")\n",
    "\n",
    "#1.5\n",
    "#Read the numbers of every person in the phone book\n",
    "print(\"O(n^2)\")\n",
    "\n",
    "#1.6\n",
    "print(\"O((n^2) / 29)\")\n"
   ]
  }
 ],
 "metadata": {
  "anaconda-cloud": {},
  "kernelspec": {
   "display_name": "Python [Root]",
   "language": "python",
   "name": "Python [Root]"
  },
  "language_info": {
   "codemirror_mode": {
    "name": "ipython",
    "version": 3
   },
   "file_extension": ".py",
   "mimetype": "text/x-python",
   "name": "python",
   "nbconvert_exporter": "python",
   "pygments_lexer": "ipython3",
   "version": "3.5.2"
  }
 },
 "nbformat": 4,
 "nbformat_minor": 0
}
